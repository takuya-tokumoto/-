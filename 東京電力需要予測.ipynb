{
  "nbformat": 4,
  "nbformat_minor": 0,
  "metadata": {
    "colab": {
      "name": "東京電力需要予測.ipynb",
      "provenance": [],
      "collapsed_sections": [],
      "toc_visible": true
    },
    "kernelspec": {
      "name": "python3",
      "display_name": "Python 3"
    },
    "language_info": {
      "name": "python"
    }
  },
  "cells": [
    {
      "cell_type": "code",
      "metadata": {
        "id": "ytI8CJvVdmBF"
      },
      "source": [
        "import pandas as pd\n",
        "from fbprophet import Prophet"
      ],
      "execution_count": 2,
      "outputs": []
    },
    {
      "cell_type": "code",
      "metadata": {
        "id": "E9NOK9LFdsUZ"
      },
      "source": [
        "_df = pd.read_csv('https://www.tepco.co.jp/forecast/html/images/juyo-2017.csv', encoding=\"shift-jis\", skiprows=1)"
      ],
      "execution_count": 8,
      "outputs": []
    },
    {
      "cell_type": "code",
      "metadata": {
        "colab": {
          "base_uri": "https://localhost:8080/",
          "height": 204
        },
        "id": "58dj675Jefxs",
        "outputId": "0db6f4a5-fabc-4367-c746-196d59f015b6"
      },
      "source": [
        "_df.head()"
      ],
      "execution_count": 10,
      "outputs": [
        {
          "output_type": "execute_result",
          "data": {
            "text/html": [
              "<div>\n",
              "<style scoped>\n",
              "    .dataframe tbody tr th:only-of-type {\n",
              "        vertical-align: middle;\n",
              "    }\n",
              "\n",
              "    .dataframe tbody tr th {\n",
              "        vertical-align: top;\n",
              "    }\n",
              "\n",
              "    .dataframe thead th {\n",
              "        text-align: right;\n",
              "    }\n",
              "</style>\n",
              "<table border=\"1\" class=\"dataframe\">\n",
              "  <thead>\n",
              "    <tr style=\"text-align: right;\">\n",
              "      <th></th>\n",
              "      <th>DATE</th>\n",
              "      <th>TIME</th>\n",
              "      <th>実績(万kW)</th>\n",
              "    </tr>\n",
              "  </thead>\n",
              "  <tbody>\n",
              "    <tr>\n",
              "      <th>0</th>\n",
              "      <td>2017/1/1</td>\n",
              "      <td>0:00</td>\n",
              "      <td>2783</td>\n",
              "    </tr>\n",
              "    <tr>\n",
              "      <th>1</th>\n",
              "      <td>2017/1/1</td>\n",
              "      <td>1:00</td>\n",
              "      <td>2634</td>\n",
              "    </tr>\n",
              "    <tr>\n",
              "      <th>2</th>\n",
              "      <td>2017/1/1</td>\n",
              "      <td>2:00</td>\n",
              "      <td>2520</td>\n",
              "    </tr>\n",
              "    <tr>\n",
              "      <th>3</th>\n",
              "      <td>2017/1/1</td>\n",
              "      <td>3:00</td>\n",
              "      <td>2438</td>\n",
              "    </tr>\n",
              "    <tr>\n",
              "      <th>4</th>\n",
              "      <td>2017/1/1</td>\n",
              "      <td>4:00</td>\n",
              "      <td>2389</td>\n",
              "    </tr>\n",
              "  </tbody>\n",
              "</table>\n",
              "</div>"
            ],
            "text/plain": [
              "       DATE  TIME  実績(万kW)\n",
              "0  2017/1/1  0:00     2783\n",
              "1  2017/1/1  1:00     2634\n",
              "2  2017/1/1  2:00     2520\n",
              "3  2017/1/1  3:00     2438\n",
              "4  2017/1/1  4:00     2389"
            ]
          },
          "metadata": {
            "tags": []
          },
          "execution_count": 10
        }
      ]
    },
    {
      "cell_type": "code",
      "metadata": {
        "id": "qJtdGY0Ie2LN"
      },
      "source": [
        "years = [2017, 2018, 2019]\n",
        "\n",
        "# year = years[0]\n",
        "df  = pd.DataFrame()\n",
        "for year in years:\n",
        "  _df = pd.read_csv(f'https://www.tepco.co.jp/forecast/html/images/juyo-{year}.csv', encoding=\"shift-jis\", skiprows=1)\n",
        "  df = pd.concat([df, _df], axis = 0)"
      ],
      "execution_count": 15,
      "outputs": []
    },
    {
      "cell_type": "code",
      "metadata": {
        "colab": {
          "base_uri": "https://localhost:8080/",
          "height": 204
        },
        "id": "Nsc1ktjLfIlt",
        "outputId": "ca35b75e-8972-4b6d-c8e8-5a0321d0fece"
      },
      "source": [
        "df.head()"
      ],
      "execution_count": 16,
      "outputs": [
        {
          "output_type": "execute_result",
          "data": {
            "text/html": [
              "<div>\n",
              "<style scoped>\n",
              "    .dataframe tbody tr th:only-of-type {\n",
              "        vertical-align: middle;\n",
              "    }\n",
              "\n",
              "    .dataframe tbody tr th {\n",
              "        vertical-align: top;\n",
              "    }\n",
              "\n",
              "    .dataframe thead th {\n",
              "        text-align: right;\n",
              "    }\n",
              "</style>\n",
              "<table border=\"1\" class=\"dataframe\">\n",
              "  <thead>\n",
              "    <tr style=\"text-align: right;\">\n",
              "      <th></th>\n",
              "      <th>DATE</th>\n",
              "      <th>TIME</th>\n",
              "      <th>実績(万kW)</th>\n",
              "    </tr>\n",
              "  </thead>\n",
              "  <tbody>\n",
              "    <tr>\n",
              "      <th>0</th>\n",
              "      <td>2017/1/1</td>\n",
              "      <td>0:00</td>\n",
              "      <td>2783</td>\n",
              "    </tr>\n",
              "    <tr>\n",
              "      <th>1</th>\n",
              "      <td>2017/1/1</td>\n",
              "      <td>1:00</td>\n",
              "      <td>2634</td>\n",
              "    </tr>\n",
              "    <tr>\n",
              "      <th>2</th>\n",
              "      <td>2017/1/1</td>\n",
              "      <td>2:00</td>\n",
              "      <td>2520</td>\n",
              "    </tr>\n",
              "    <tr>\n",
              "      <th>3</th>\n",
              "      <td>2017/1/1</td>\n",
              "      <td>3:00</td>\n",
              "      <td>2438</td>\n",
              "    </tr>\n",
              "    <tr>\n",
              "      <th>4</th>\n",
              "      <td>2017/1/1</td>\n",
              "      <td>4:00</td>\n",
              "      <td>2389</td>\n",
              "    </tr>\n",
              "  </tbody>\n",
              "</table>\n",
              "</div>"
            ],
            "text/plain": [
              "       DATE  TIME  実績(万kW)\n",
              "0  2017/1/1  0:00     2783\n",
              "1  2017/1/1  1:00     2634\n",
              "2  2017/1/1  2:00     2520\n",
              "3  2017/1/1  3:00     2438\n",
              "4  2017/1/1  4:00     2389"
            ]
          },
          "metadata": {
            "tags": []
          },
          "execution_count": 16
        }
      ]
    },
    {
      "cell_type": "code",
      "metadata": {
        "colab": {
          "base_uri": "https://localhost:8080/",
          "height": 204
        },
        "id": "cfcAFat2gJGn",
        "outputId": "b7557ff6-fcb0-4147-a39f-b7c0c475cb6a"
      },
      "source": [
        "df.tail()"
      ],
      "execution_count": 18,
      "outputs": [
        {
          "output_type": "execute_result",
          "data": {
            "text/html": [
              "<div>\n",
              "<style scoped>\n",
              "    .dataframe tbody tr th:only-of-type {\n",
              "        vertical-align: middle;\n",
              "    }\n",
              "\n",
              "    .dataframe tbody tr th {\n",
              "        vertical-align: top;\n",
              "    }\n",
              "\n",
              "    .dataframe thead th {\n",
              "        text-align: right;\n",
              "    }\n",
              "</style>\n",
              "<table border=\"1\" class=\"dataframe\">\n",
              "  <thead>\n",
              "    <tr style=\"text-align: right;\">\n",
              "      <th></th>\n",
              "      <th>DATE</th>\n",
              "      <th>TIME</th>\n",
              "      <th>実績(万kW)</th>\n",
              "    </tr>\n",
              "  </thead>\n",
              "  <tbody>\n",
              "    <tr>\n",
              "      <th>8755</th>\n",
              "      <td>2019/12/31</td>\n",
              "      <td>19:00</td>\n",
              "      <td>3302</td>\n",
              "    </tr>\n",
              "    <tr>\n",
              "      <th>8756</th>\n",
              "      <td>2019/12/31</td>\n",
              "      <td>20:00</td>\n",
              "      <td>3263</td>\n",
              "    </tr>\n",
              "    <tr>\n",
              "      <th>8757</th>\n",
              "      <td>2019/12/31</td>\n",
              "      <td>21:00</td>\n",
              "      <td>3182</td>\n",
              "    </tr>\n",
              "    <tr>\n",
              "      <th>8758</th>\n",
              "      <td>2019/12/31</td>\n",
              "      <td>22:00</td>\n",
              "      <td>3077</td>\n",
              "    </tr>\n",
              "    <tr>\n",
              "      <th>8759</th>\n",
              "      <td>2019/12/31</td>\n",
              "      <td>23:00</td>\n",
              "      <td>3029</td>\n",
              "    </tr>\n",
              "  </tbody>\n",
              "</table>\n",
              "</div>"
            ],
            "text/plain": [
              "            DATE   TIME  実績(万kW)\n",
              "8755  2019/12/31  19:00     3302\n",
              "8756  2019/12/31  20:00     3263\n",
              "8757  2019/12/31  21:00     3182\n",
              "8758  2019/12/31  22:00     3077\n",
              "8759  2019/12/31  23:00     3029"
            ]
          },
          "metadata": {
            "tags": []
          },
          "execution_count": 18
        }
      ]
    },
    {
      "cell_type": "code",
      "metadata": {
        "id": "ZVO2vE6TgM2-"
      },
      "source": [
        "df = df.reset_index(drop=True)"
      ],
      "execution_count": 21,
      "outputs": []
    },
    {
      "cell_type": "code",
      "metadata": {
        "colab": {
          "base_uri": "https://localhost:8080/",
          "height": 35
        },
        "id": "_H-SbtUJgVCx",
        "outputId": "833571d1-81fe-482d-93f6-0589987cf334"
      },
      "source": [
        "df['DATE'][0]"
      ],
      "execution_count": 22,
      "outputs": [
        {
          "output_type": "execute_result",
          "data": {
            "application/vnd.google.colaboratory.intrinsic+json": {
              "type": "string"
            },
            "text/plain": [
              "'2017/1/1'"
            ]
          },
          "metadata": {
            "tags": []
          },
          "execution_count": 22
        }
      ]
    },
    {
      "cell_type": "code",
      "metadata": {
        "colab": {
          "base_uri": "https://localhost:8080/",
          "height": 35
        },
        "id": "oMUMC6Mxg6R-",
        "outputId": "6485915c-1bcc-44c2-c97e-826363646ed1"
      },
      "source": [
        "df['TIME'][0]"
      ],
      "execution_count": 23,
      "outputs": [
        {
          "output_type": "execute_result",
          "data": {
            "application/vnd.google.colaboratory.intrinsic+json": {
              "type": "string"
            },
            "text/plain": [
              "'0:00'"
            ]
          },
          "metadata": {
            "tags": []
          },
          "execution_count": 23
        }
      ]
    },
    {
      "cell_type": "code",
      "metadata": {
        "colab": {
          "base_uri": "https://localhost:8080/",
          "height": 35
        },
        "id": "B2nJ08Dsg-5f",
        "outputId": "f28e24af-fbcf-449b-9f67-a646f44b2637"
      },
      "source": [
        "date = df['DATE'][0]\n",
        "time = df['TIME'][0]\n",
        "str_datetime =  f'{date} {time}'\n",
        "str_datetime"
      ],
      "execution_count": 29,
      "outputs": [
        {
          "output_type": "execute_result",
          "data": {
            "application/vnd.google.colaboratory.intrinsic+json": {
              "type": "string"
            },
            "text/plain": [
              "'2017/1/1 0:00'"
            ]
          },
          "metadata": {
            "tags": []
          },
          "execution_count": 29
        }
      ]
    },
    {
      "cell_type": "code",
      "metadata": {
        "id": "uEIQ04wVhTO4"
      },
      "source": [
        "from datetime import datetime as dt"
      ],
      "execution_count": 30,
      "outputs": []
    },
    {
      "cell_type": "code",
      "metadata": {
        "colab": {
          "base_uri": "https://localhost:8080/"
        },
        "id": "t4d2ijb1haAg",
        "outputId": "a3cb18d3-7af9-4503-f8be-2218c88726dd"
      },
      "source": [
        "datetime = dt.strptime(str_datetime, '%Y/%m/%d %H:%M')\n",
        "datetime"
      ],
      "execution_count": 43,
      "outputs": [
        {
          "output_type": "execute_result",
          "data": {
            "text/plain": [
              "datetime.datetime(2019, 12, 31, 23, 0)"
            ]
          },
          "metadata": {
            "tags": []
          },
          "execution_count": 43
        }
      ]
    },
    {
      "cell_type": "code",
      "metadata": {
        "id": "4dyt5SJ2hpqe"
      },
      "source": [
        "datetimes =  []\n",
        "\n",
        "for index, datum in df.iterrows():\n",
        "  date = datum['DATE']\n",
        "  time = datum['TIME']\n",
        "  str_datetime = f'{date} {time}'\n",
        "  datetime = dt.strptime(str_datetime, '%Y/%m/%d %H:%M')\n",
        "  datetimes.append(datetime)"
      ],
      "execution_count": 44,
      "outputs": []
    },
    {
      "cell_type": "code",
      "metadata": {
        "colab": {
          "base_uri": "https://localhost:8080/"
        },
        "id": "VgzPMnn0iIS4",
        "outputId": "332ad2ee-4700-44f1-ddc1-cace78a58e3a"
      },
      "source": [
        "datetimes[:3]"
      ],
      "execution_count": 47,
      "outputs": [
        {
          "output_type": "execute_result",
          "data": {
            "text/plain": [
              "[datetime.datetime(2017, 1, 1, 0, 0),\n",
              " datetime.datetime(2017, 1, 1, 1, 0),\n",
              " datetime.datetime(2017, 1, 1, 2, 0)]"
            ]
          },
          "metadata": {
            "tags": []
          },
          "execution_count": 47
        }
      ]
    },
    {
      "cell_type": "code",
      "metadata": {
        "id": "th12KtTjiJrr"
      },
      "source": [
        "df['ds'] = datetimes"
      ],
      "execution_count": 48,
      "outputs": []
    },
    {
      "cell_type": "code",
      "metadata": {
        "colab": {
          "base_uri": "https://localhost:8080/",
          "height": 204
        },
        "id": "Sn_b-6S2iJXL",
        "outputId": "bd9e0cad-97c8-4435-9830-0235470fda19"
      },
      "source": [
        "df.head()"
      ],
      "execution_count": 49,
      "outputs": [
        {
          "output_type": "execute_result",
          "data": {
            "text/html": [
              "<div>\n",
              "<style scoped>\n",
              "    .dataframe tbody tr th:only-of-type {\n",
              "        vertical-align: middle;\n",
              "    }\n",
              "\n",
              "    .dataframe tbody tr th {\n",
              "        vertical-align: top;\n",
              "    }\n",
              "\n",
              "    .dataframe thead th {\n",
              "        text-align: right;\n",
              "    }\n",
              "</style>\n",
              "<table border=\"1\" class=\"dataframe\">\n",
              "  <thead>\n",
              "    <tr style=\"text-align: right;\">\n",
              "      <th></th>\n",
              "      <th>DATE</th>\n",
              "      <th>TIME</th>\n",
              "      <th>実績(万kW)</th>\n",
              "      <th>ds</th>\n",
              "    </tr>\n",
              "  </thead>\n",
              "  <tbody>\n",
              "    <tr>\n",
              "      <th>0</th>\n",
              "      <td>2017/1/1</td>\n",
              "      <td>0:00</td>\n",
              "      <td>2783</td>\n",
              "      <td>2017-01-01 00:00:00</td>\n",
              "    </tr>\n",
              "    <tr>\n",
              "      <th>1</th>\n",
              "      <td>2017/1/1</td>\n",
              "      <td>1:00</td>\n",
              "      <td>2634</td>\n",
              "      <td>2017-01-01 01:00:00</td>\n",
              "    </tr>\n",
              "    <tr>\n",
              "      <th>2</th>\n",
              "      <td>2017/1/1</td>\n",
              "      <td>2:00</td>\n",
              "      <td>2520</td>\n",
              "      <td>2017-01-01 02:00:00</td>\n",
              "    </tr>\n",
              "    <tr>\n",
              "      <th>3</th>\n",
              "      <td>2017/1/1</td>\n",
              "      <td>3:00</td>\n",
              "      <td>2438</td>\n",
              "      <td>2017-01-01 03:00:00</td>\n",
              "    </tr>\n",
              "    <tr>\n",
              "      <th>4</th>\n",
              "      <td>2017/1/1</td>\n",
              "      <td>4:00</td>\n",
              "      <td>2389</td>\n",
              "      <td>2017-01-01 04:00:00</td>\n",
              "    </tr>\n",
              "  </tbody>\n",
              "</table>\n",
              "</div>"
            ],
            "text/plain": [
              "       DATE  TIME  実績(万kW)                  ds\n",
              "0  2017/1/1  0:00     2783 2017-01-01 00:00:00\n",
              "1  2017/1/1  1:00     2634 2017-01-01 01:00:00\n",
              "2  2017/1/1  2:00     2520 2017-01-01 02:00:00\n",
              "3  2017/1/1  3:00     2438 2017-01-01 03:00:00\n",
              "4  2017/1/1  4:00     2389 2017-01-01 04:00:00"
            ]
          },
          "metadata": {
            "tags": []
          },
          "execution_count": 49
        }
      ]
    },
    {
      "cell_type": "code",
      "metadata": {
        "id": "9jYZobQdkrP8"
      },
      "source": [
        "df = df.rename(columns={'実績(万kW)':'y'})"
      ],
      "execution_count": 51,
      "outputs": []
    },
    {
      "cell_type": "code",
      "metadata": {
        "id": "BnQKZb8alTEF"
      },
      "source": [
        ""
      ],
      "execution_count": null,
      "outputs": []
    },
    {
      "cell_type": "markdown",
      "metadata": {
        "id": "dtKbumGQluDy"
      },
      "source": [
        "# モデル構築"
      ]
    },
    {
      "cell_type": "code",
      "metadata": {
        "id": "vfedp9Tolqah"
      },
      "source": [
        "model = Prophet()"
      ],
      "execution_count": 55,
      "outputs": []
    },
    {
      "cell_type": "code",
      "metadata": {
        "colab": {
          "base_uri": "https://localhost:8080/"
        },
        "id": "j0maeVZZl5Mv",
        "outputId": "96a0fc3a-0586-497a-fdca-185ab059bc45"
      },
      "source": [
        "model.fit(df)"
      ],
      "execution_count": 56,
      "outputs": [
        {
          "output_type": "stream",
          "text": [
            "INFO:numexpr.utils:NumExpr defaulting to 2 threads.\n"
          ],
          "name": "stderr"
        },
        {
          "output_type": "execute_result",
          "data": {
            "text/plain": [
              "<fbprophet.forecaster.Prophet at 0x7f8783a78210>"
            ]
          },
          "metadata": {
            "tags": []
          },
          "execution_count": 56
        }
      ]
    },
    {
      "cell_type": "code",
      "metadata": {
        "id": "WH6-4kMGmFjB"
      },
      "source": [
        "# 2020年はうるう年ありなので366日\n",
        "future = model.make_future_dataframe(24*366, freq = 'H')"
      ],
      "execution_count": 61,
      "outputs": []
    },
    {
      "cell_type": "code",
      "metadata": {
        "colab": {
          "base_uri": "https://localhost:8080/",
          "height": 204
        },
        "id": "YIOjX_0AmFEO",
        "outputId": "d04e0932-bcd7-4fd0-969a-9c96898381fb"
      },
      "source": [
        "future.tail()"
      ],
      "execution_count": 62,
      "outputs": [
        {
          "output_type": "execute_result",
          "data": {
            "text/html": [
              "<div>\n",
              "<style scoped>\n",
              "    .dataframe tbody tr th:only-of-type {\n",
              "        vertical-align: middle;\n",
              "    }\n",
              "\n",
              "    .dataframe tbody tr th {\n",
              "        vertical-align: top;\n",
              "    }\n",
              "\n",
              "    .dataframe thead th {\n",
              "        text-align: right;\n",
              "    }\n",
              "</style>\n",
              "<table border=\"1\" class=\"dataframe\">\n",
              "  <thead>\n",
              "    <tr style=\"text-align: right;\">\n",
              "      <th></th>\n",
              "      <th>ds</th>\n",
              "    </tr>\n",
              "  </thead>\n",
              "  <tbody>\n",
              "    <tr>\n",
              "      <th>35059</th>\n",
              "      <td>2020-12-31 19:00:00</td>\n",
              "    </tr>\n",
              "    <tr>\n",
              "      <th>35060</th>\n",
              "      <td>2020-12-31 20:00:00</td>\n",
              "    </tr>\n",
              "    <tr>\n",
              "      <th>35061</th>\n",
              "      <td>2020-12-31 21:00:00</td>\n",
              "    </tr>\n",
              "    <tr>\n",
              "      <th>35062</th>\n",
              "      <td>2020-12-31 22:00:00</td>\n",
              "    </tr>\n",
              "    <tr>\n",
              "      <th>35063</th>\n",
              "      <td>2020-12-31 23:00:00</td>\n",
              "    </tr>\n",
              "  </tbody>\n",
              "</table>\n",
              "</div>"
            ],
            "text/plain": [
              "                       ds\n",
              "35059 2020-12-31 19:00:00\n",
              "35060 2020-12-31 20:00:00\n",
              "35061 2020-12-31 21:00:00\n",
              "35062 2020-12-31 22:00:00\n",
              "35063 2020-12-31 23:00:00"
            ]
          },
          "metadata": {
            "tags": []
          },
          "execution_count": 62
        }
      ]
    },
    {
      "cell_type": "code",
      "metadata": {
        "id": "oeEnH1Tml7BU"
      },
      "source": [
        "forecast = model.predict(future)"
      ],
      "execution_count": 64,
      "outputs": []
    },
    {
      "cell_type": "code",
      "metadata": {
        "id": "kLSQqee6nzDl"
      },
      "source": [
        ""
      ],
      "execution_count": 68,
      "outputs": []
    },
    {
      "cell_type": "markdown",
      "metadata": {
        "id": "hFCn5lJIoLWt"
      },
      "source": [
        "# 評価"
      ]
    },
    {
      "cell_type": "code",
      "metadata": {
        "id": "-l-p6V3UndzN"
      },
      "source": [
        "import matplotlib.pyplot as plt"
      ],
      "execution_count": 66,
      "outputs": []
    },
    {
      "cell_type": "code",
      "metadata": {
        "colab": {
          "base_uri": "https://localhost:8080/",
          "height": 376
        },
        "id": "i1qERTfpn2bF",
        "outputId": "4410e54e-33cb-4005-b6f6-d855908ee13f"
      },
      "source": [
        "model.plot(forecast)\n",
        "plt.xlim(dt(2018,1,1), dt(2018,1,10))\n",
        "plt.show()"
      ],
      "execution_count": 71,
      "outputs": [
        {
          "output_type": "display_data",
          "data": {
            "image/png": "[encoded data removed]",
            "text/plain": [
              "<Figure size 720x432 with 1 Axes>"
            ]
          },
          "metadata": {
            "tags": []
          }
        }
      ]
    },
    {
      "cell_type": "code",
      "metadata": {
        "id": "N_5KtI1ypeqU"
      },
      "source": [
        ""
      ],
      "execution_count": null,
      "outputs": []
    },
    {
      "cell_type": "code",
      "metadata": {
        "id": "6-7UXVd_pfBS"
      },
      "source": [
        "df_2020 =  pd.read_csv(f'https://www.tepco.co.jp/forecast/html/images/juyo-2020.csv', encoding=\"shift-jis\", skiprows=1)"
      ],
      "execution_count": 92,
      "outputs": []
    },
    {
      "cell_type": "code",
      "metadata": {
        "colab": {
          "base_uri": "https://localhost:8080/",
          "height": 204
        },
        "id": "FmNrv3sBn7Zd",
        "outputId": "299fcdfc-e999-419d-cf33-3dfe0ad60b01"
      },
      "source": [
        "df_2020.head()"
      ],
      "execution_count": 93,
      "outputs": [
        {
          "output_type": "execute_result",
          "data": {
            "text/html": [
              "<div>\n",
              "<style scoped>\n",
              "    .dataframe tbody tr th:only-of-type {\n",
              "        vertical-align: middle;\n",
              "    }\n",
              "\n",
              "    .dataframe tbody tr th {\n",
              "        vertical-align: top;\n",
              "    }\n",
              "\n",
              "    .dataframe thead th {\n",
              "        text-align: right;\n",
              "    }\n",
              "</style>\n",
              "<table border=\"1\" class=\"dataframe\">\n",
              "  <thead>\n",
              "    <tr style=\"text-align: right;\">\n",
              "      <th></th>\n",
              "      <th>DATE</th>\n",
              "      <th>TIME</th>\n",
              "      <th>実績(万kW)</th>\n",
              "    </tr>\n",
              "  </thead>\n",
              "  <tbody>\n",
              "    <tr>\n",
              "      <th>0</th>\n",
              "      <td>2020/1/1</td>\n",
              "      <td>0:00</td>\n",
              "      <td>2857</td>\n",
              "    </tr>\n",
              "    <tr>\n",
              "      <th>1</th>\n",
              "      <td>2020/1/1</td>\n",
              "      <td>1:00</td>\n",
              "      <td>2703</td>\n",
              "    </tr>\n",
              "    <tr>\n",
              "      <th>2</th>\n",
              "      <td>2020/1/1</td>\n",
              "      <td>2:00</td>\n",
              "      <td>2602</td>\n",
              "    </tr>\n",
              "    <tr>\n",
              "      <th>3</th>\n",
              "      <td>2020/1/1</td>\n",
              "      <td>3:00</td>\n",
              "      <td>2520</td>\n",
              "    </tr>\n",
              "    <tr>\n",
              "      <th>4</th>\n",
              "      <td>2020/1/1</td>\n",
              "      <td>4:00</td>\n",
              "      <td>2464</td>\n",
              "    </tr>\n",
              "  </tbody>\n",
              "</table>\n",
              "</div>"
            ],
            "text/plain": [
              "       DATE  TIME  実績(万kW)\n",
              "0  2020/1/1  0:00     2857\n",
              "1  2020/1/1  1:00     2703\n",
              "2  2020/1/1  2:00     2602\n",
              "3  2020/1/1  3:00     2520\n",
              "4  2020/1/1  4:00     2464"
            ]
          },
          "metadata": {
            "tags": []
          },
          "execution_count": 93
        }
      ]
    },
    {
      "cell_type": "code",
      "metadata": {
        "id": "6mT1LvTHpwNX"
      },
      "source": [
        "forecast_2020 = forecast[forecast['ds'] >= dt(2020,1,1)].reset_index(drop = True)"
      ],
      "execution_count": 94,
      "outputs": []
    },
    {
      "cell_type": "code",
      "metadata": {
        "colab": {
          "base_uri": "https://localhost:8080/",
          "height": 394
        },
        "id": "_c1S0H-0p05O",
        "outputId": "661cb5d8-b3b9-4fea-bf47-6b5d441c2b20"
      },
      "source": [
        "forecast_2020.head()"
      ],
      "execution_count": 95,
      "outputs": [
        {
          "output_type": "execute_result",
          "data": {
            "text/html": [
              "<div>\n",
              "<style scoped>\n",
              "    .dataframe tbody tr th:only-of-type {\n",
              "        vertical-align: middle;\n",
              "    }\n",
              "\n",
              "    .dataframe tbody tr th {\n",
              "        vertical-align: top;\n",
              "    }\n",
              "\n",
              "    .dataframe thead th {\n",
              "        text-align: right;\n",
              "    }\n",
              "</style>\n",
              "<table border=\"1\" class=\"dataframe\">\n",
              "  <thead>\n",
              "    <tr style=\"text-align: right;\">\n",
              "      <th></th>\n",
              "      <th>ds</th>\n",
              "      <th>trend</th>\n",
              "      <th>yhat_lower</th>\n",
              "      <th>yhat_upper</th>\n",
              "      <th>trend_lower</th>\n",
              "      <th>trend_upper</th>\n",
              "      <th>additive_terms</th>\n",
              "      <th>additive_terms_lower</th>\n",
              "      <th>additive_terms_upper</th>\n",
              "      <th>daily</th>\n",
              "      <th>daily_lower</th>\n",
              "      <th>daily_upper</th>\n",
              "      <th>weekly</th>\n",
              "      <th>weekly_lower</th>\n",
              "      <th>weekly_upper</th>\n",
              "      <th>yearly</th>\n",
              "      <th>yearly_lower</th>\n",
              "      <th>yearly_upper</th>\n",
              "      <th>multiplicative_terms</th>\n",
              "      <th>multiplicative_terms_lower</th>\n",
              "      <th>multiplicative_terms_upper</th>\n",
              "      <th>yhat</th>\n",
              "    </tr>\n",
              "  </thead>\n",
              "  <tbody>\n",
              "    <tr>\n",
              "      <th>0</th>\n",
              "      <td>2020-01-01 00:00:00</td>\n",
              "      <td>3134.340011</td>\n",
              "      <td>2501.283426</td>\n",
              "      <td>3313.395250</td>\n",
              "      <td>3134.340011</td>\n",
              "      <td>3134.340011</td>\n",
              "      <td>-224.856836</td>\n",
              "      <td>-224.856836</td>\n",
              "      <td>-224.856836</td>\n",
              "      <td>-488.417802</td>\n",
              "      <td>-488.417802</td>\n",
              "      <td>-488.417802</td>\n",
              "      <td>108.739814</td>\n",
              "      <td>108.739814</td>\n",
              "      <td>108.739814</td>\n",
              "      <td>154.821152</td>\n",
              "      <td>154.821152</td>\n",
              "      <td>154.821152</td>\n",
              "      <td>0.0</td>\n",
              "      <td>0.0</td>\n",
              "      <td>0.0</td>\n",
              "      <td>2909.483175</td>\n",
              "    </tr>\n",
              "    <tr>\n",
              "      <th>1</th>\n",
              "      <td>2020-01-01 01:00:00</td>\n",
              "      <td>3134.297635</td>\n",
              "      <td>2407.590326</td>\n",
              "      <td>3154.830146</td>\n",
              "      <td>3134.297635</td>\n",
              "      <td>3134.297635</td>\n",
              "      <td>-354.546087</td>\n",
              "      <td>-354.546087</td>\n",
              "      <td>-354.546087</td>\n",
              "      <td>-617.309962</td>\n",
              "      <td>-617.309962</td>\n",
              "      <td>-617.309962</td>\n",
              "      <td>108.086395</td>\n",
              "      <td>108.086395</td>\n",
              "      <td>108.086395</td>\n",
              "      <td>154.677480</td>\n",
              "      <td>154.677480</td>\n",
              "      <td>154.677480</td>\n",
              "      <td>0.0</td>\n",
              "      <td>0.0</td>\n",
              "      <td>0.0</td>\n",
              "      <td>2779.751548</td>\n",
              "    </tr>\n",
              "    <tr>\n",
              "      <th>2</th>\n",
              "      <td>2020-01-01 02:00:00</td>\n",
              "      <td>3134.255259</td>\n",
              "      <td>2310.036187</td>\n",
              "      <td>3113.911187</td>\n",
              "      <td>3134.255259</td>\n",
              "      <td>3134.255259</td>\n",
              "      <td>-432.164816</td>\n",
              "      <td>-432.164816</td>\n",
              "      <td>-432.164816</td>\n",
              "      <td>-694.375983</td>\n",
              "      <td>-694.375983</td>\n",
              "      <td>-694.375983</td>\n",
              "      <td>107.671307</td>\n",
              "      <td>107.671307</td>\n",
              "      <td>107.671307</td>\n",
              "      <td>154.539860</td>\n",
              "      <td>154.539860</td>\n",
              "      <td>154.539860</td>\n",
              "      <td>0.0</td>\n",
              "      <td>0.0</td>\n",
              "      <td>0.0</td>\n",
              "      <td>2702.090443</td>\n",
              "    </tr>\n",
              "    <tr>\n",
              "      <th>3</th>\n",
              "      <td>2020-01-01 03:00:00</td>\n",
              "      <td>3134.212883</td>\n",
              "      <td>2288.730008</td>\n",
              "      <td>3063.533847</td>\n",
              "      <td>3134.212883</td>\n",
              "      <td>3134.212883</td>\n",
              "      <td>-466.064530</td>\n",
              "      <td>-466.064530</td>\n",
              "      <td>-466.064530</td>\n",
              "      <td>-727.960893</td>\n",
              "      <td>-727.960893</td>\n",
              "      <td>-727.960893</td>\n",
              "      <td>107.488055</td>\n",
              "      <td>107.488055</td>\n",
              "      <td>107.488055</td>\n",
              "      <td>154.408308</td>\n",
              "      <td>154.408308</td>\n",
              "      <td>154.408308</td>\n",
              "      <td>0.0</td>\n",
              "      <td>0.0</td>\n",
              "      <td>0.0</td>\n",
              "      <td>2668.148353</td>\n",
              "    </tr>\n",
              "    <tr>\n",
              "      <th>4</th>\n",
              "      <td>2020-01-01 04:00:00</td>\n",
              "      <td>3134.170507</td>\n",
              "      <td>2274.179057</td>\n",
              "      <td>3057.162250</td>\n",
              "      <td>3134.170507</td>\n",
              "      <td>3134.170507</td>\n",
              "      <td>-446.333967</td>\n",
              "      <td>-446.333967</td>\n",
              "      <td>-446.333967</td>\n",
              "      <td>-708.142983</td>\n",
              "      <td>-708.142983</td>\n",
              "      <td>-708.142983</td>\n",
              "      <td>107.526173</td>\n",
              "      <td>107.526173</td>\n",
              "      <td>107.526173</td>\n",
              "      <td>154.282843</td>\n",
              "      <td>154.282843</td>\n",
              "      <td>154.282843</td>\n",
              "      <td>0.0</td>\n",
              "      <td>0.0</td>\n",
              "      <td>0.0</td>\n",
              "      <td>2687.836539</td>\n",
              "    </tr>\n",
              "  </tbody>\n",
              "</table>\n",
              "</div>"
            ],
            "text/plain": [
              "                   ds        trend  ...  multiplicative_terms_upper         yhat\n",
              "0 2020-01-01 00:00:00  3134.340011  ...                         0.0  2909.483175\n",
              "1 2020-01-01 01:00:00  3134.297635  ...                         0.0  2779.751548\n",
              "2 2020-01-01 02:00:00  3134.255259  ...                         0.0  2702.090443\n",
              "3 2020-01-01 03:00:00  3134.212883  ...                         0.0  2668.148353\n",
              "4 2020-01-01 04:00:00  3134.170507  ...                         0.0  2687.836539\n",
              "\n",
              "[5 rows x 22 columns]"
            ]
          },
          "metadata": {
            "tags": []
          },
          "execution_count": 95
        }
      ]
    },
    {
      "cell_type": "code",
      "metadata": {
        "id": "Ye38q0Fwqml9"
      },
      "source": [
        ""
      ],
      "execution_count": 95,
      "outputs": []
    },
    {
      "cell_type": "code",
      "metadata": {
        "colab": {
          "base_uri": "https://localhost:8080/",
          "height": 204
        },
        "id": "GQknnGbWqt86",
        "outputId": "6e629a47-34c1-4bc9-a0d1-40715e7346b4"
      },
      "source": [
        "df_2020 = df_2020.rename(columns={'実績(万kW)':'y'})\n",
        "df_2020.head()"
      ],
      "execution_count": 96,
      "outputs": [
        {
          "output_type": "execute_result",
          "data": {
            "text/html": [
              "<div>\n",
              "<style scoped>\n",
              "    .dataframe tbody tr th:only-of-type {\n",
              "        vertical-align: middle;\n",
              "    }\n",
              "\n",
              "    .dataframe tbody tr th {\n",
              "        vertical-align: top;\n",
              "    }\n",
              "\n",
              "    .dataframe thead th {\n",
              "        text-align: right;\n",
              "    }\n",
              "</style>\n",
              "<table border=\"1\" class=\"dataframe\">\n",
              "  <thead>\n",
              "    <tr style=\"text-align: right;\">\n",
              "      <th></th>\n",
              "      <th>DATE</th>\n",
              "      <th>TIME</th>\n",
              "      <th>y</th>\n",
              "    </tr>\n",
              "  </thead>\n",
              "  <tbody>\n",
              "    <tr>\n",
              "      <th>0</th>\n",
              "      <td>2020/1/1</td>\n",
              "      <td>0:00</td>\n",
              "      <td>2857</td>\n",
              "    </tr>\n",
              "    <tr>\n",
              "      <th>1</th>\n",
              "      <td>2020/1/1</td>\n",
              "      <td>1:00</td>\n",
              "      <td>2703</td>\n",
              "    </tr>\n",
              "    <tr>\n",
              "      <th>2</th>\n",
              "      <td>2020/1/1</td>\n",
              "      <td>2:00</td>\n",
              "      <td>2602</td>\n",
              "    </tr>\n",
              "    <tr>\n",
              "      <th>3</th>\n",
              "      <td>2020/1/1</td>\n",
              "      <td>3:00</td>\n",
              "      <td>2520</td>\n",
              "    </tr>\n",
              "    <tr>\n",
              "      <th>4</th>\n",
              "      <td>2020/1/1</td>\n",
              "      <td>4:00</td>\n",
              "      <td>2464</td>\n",
              "    </tr>\n",
              "  </tbody>\n",
              "</table>\n",
              "</div>"
            ],
            "text/plain": [
              "       DATE  TIME     y\n",
              "0  2020/1/1  0:00  2857\n",
              "1  2020/1/1  1:00  2703\n",
              "2  2020/1/1  2:00  2602\n",
              "3  2020/1/1  3:00  2520\n",
              "4  2020/1/1  4:00  2464"
            ]
          },
          "metadata": {
            "tags": []
          },
          "execution_count": 96
        }
      ]
    },
    {
      "cell_type": "code",
      "metadata": {
        "colab": {
          "base_uri": "https://localhost:8080/"
        },
        "id": "jtyWnoi8q49e",
        "outputId": "7ea7cec6-34d6-45ce-8d56-714265498617"
      },
      "source": [
        "# yhat:予測値\n",
        "forecast_2020['yhat']"
      ],
      "execution_count": 97,
      "outputs": [
        {
          "output_type": "execute_result",
          "data": {
            "text/plain": [
              "0       2909.483175\n",
              "1       2779.751548\n",
              "2       2702.090443\n",
              "3       2668.148353\n",
              "4       2687.836539\n",
              "           ...     \n",
              "8779    3432.955979\n",
              "8780    3329.200745\n",
              "8781    3163.596655\n",
              "8782    2952.388022\n",
              "8783    2734.208687\n",
              "Name: yhat, Length: 8784, dtype: float64"
            ]
          },
          "metadata": {
            "tags": []
          },
          "execution_count": 97
        }
      ]
    },
    {
      "cell_type": "code",
      "metadata": {
        "id": "GL9-UMourQxP"
      },
      "source": [
        "results = pd.DataFrame()"
      ],
      "execution_count": 98,
      "outputs": []
    },
    {
      "cell_type": "code",
      "metadata": {
        "colab": {
          "base_uri": "https://localhost:8080/",
          "height": 204
        },
        "id": "vPi5Q1fnrgK4",
        "outputId": "cfbeb261-5542-4586-c7de-5b0aa5ee4a73"
      },
      "source": [
        "# 実測値\n",
        "results['t'] =  df_2020['y']\n",
        "# 予測値\n",
        "results['y'] =  forecast_2020['yhat']\n",
        "results['diff'] = results['t'] - results['y']\n",
        "\n",
        "results.head()"
      ],
      "execution_count": 100,
      "outputs": [
        {
          "output_type": "execute_result",
          "data": {
            "text/html": [
              "<div>\n",
              "<style scoped>\n",
              "    .dataframe tbody tr th:only-of-type {\n",
              "        vertical-align: middle;\n",
              "    }\n",
              "\n",
              "    .dataframe tbody tr th {\n",
              "        vertical-align: top;\n",
              "    }\n",
              "\n",
              "    .dataframe thead th {\n",
              "        text-align: right;\n",
              "    }\n",
              "</style>\n",
              "<table border=\"1\" class=\"dataframe\">\n",
              "  <thead>\n",
              "    <tr style=\"text-align: right;\">\n",
              "      <th></th>\n",
              "      <th>t</th>\n",
              "      <th>y</th>\n",
              "      <th>diff</th>\n",
              "    </tr>\n",
              "  </thead>\n",
              "  <tbody>\n",
              "    <tr>\n",
              "      <th>0</th>\n",
              "      <td>2857</td>\n",
              "      <td>2370.686945</td>\n",
              "      <td>486.313055</td>\n",
              "    </tr>\n",
              "    <tr>\n",
              "      <th>1</th>\n",
              "      <td>2703</td>\n",
              "      <td>2232.501548</td>\n",
              "      <td>470.498452</td>\n",
              "    </tr>\n",
              "    <tr>\n",
              "      <th>2</th>\n",
              "      <td>2602</td>\n",
              "      <td>2147.420398</td>\n",
              "      <td>454.579602</td>\n",
              "    </tr>\n",
              "    <tr>\n",
              "      <th>3</th>\n",
              "      <td>2520</td>\n",
              "      <td>2107.160716</td>\n",
              "      <td>412.839284</td>\n",
              "    </tr>\n",
              "    <tr>\n",
              "      <th>4</th>\n",
              "      <td>2464</td>\n",
              "      <td>2121.697412</td>\n",
              "      <td>342.302588</td>\n",
              "    </tr>\n",
              "  </tbody>\n",
              "</table>\n",
              "</div>"
            ],
            "text/plain": [
              "      t            y        diff\n",
              "0  2857  2370.686945  486.313055\n",
              "1  2703  2232.501548  470.498452\n",
              "2  2602  2147.420398  454.579602\n",
              "3  2520  2107.160716  412.839284\n",
              "4  2464  2121.697412  342.302588"
            ]
          },
          "metadata": {
            "tags": []
          },
          "execution_count": 100
        }
      ]
    },
    {
      "cell_type": "code",
      "metadata": {
        "id": "fprvj7eDsSh7"
      },
      "source": [
        ""
      ],
      "execution_count": null,
      "outputs": []
    },
    {
      "cell_type": "code",
      "metadata": {
        "id": "PTzafITEsBTf"
      },
      "source": [
        "# MAP：平均絶対誤差率\n",
        "\n",
        "# MSE(Mean Squared Error)：平均二乗誤差\n",
        "# RMSE(Root Mean Squared Error)：平均平方二乗誤差"
      ],
      "execution_count": 101,
      "outputs": []
    },
    {
      "cell_type": "code",
      "metadata": {
        "id": "btxWEcTys-s7"
      },
      "source": [
        "import numpy as np"
      ],
      "execution_count": 102,
      "outputs": []
    },
    {
      "cell_type": "code",
      "metadata": {
        "colab": {
          "base_uri": "https://localhost:8080/"
        },
        "id": "0AN62FKLtT_G",
        "outputId": "94efac2a-89cf-4fa3-fe38-8ed7eab5ef19"
      },
      "source": [
        "np.mean(abs((results['y'] - results['t'])/results['y'])*100)"
      ],
      "execution_count": 104,
      "outputs": [
        {
          "output_type": "execute_result",
          "data": {
            "text/plain": [
              "11.322086694572873"
            ]
          },
          "metadata": {
            "tags": []
          },
          "execution_count": 104
        }
      ]
    },
    {
      "cell_type": "code",
      "metadata": {
        "id": "xv4Tjc2at3mN"
      },
      "source": [
        ""
      ],
      "execution_count": null,
      "outputs": []
    },
    {
      "cell_type": "markdown",
      "metadata": {
        "id": "Y08xXbH9t5ql"
      },
      "source": [
        "# 精度向上のための施策"
      ]
    },
    {
      "cell_type": "code",
      "metadata": {
        "colab": {
          "base_uri": "https://localhost:8080/",
          "height": 204
        },
        "id": "WZgCeSU7t36j",
        "outputId": "ad792b2a-b944-4b6d-a9e5-94a308471621"
      },
      "source": [
        "df_holidays = pd.read_csv('holidays+hotdays+hour_2017_2019.csv')\n",
        "df_holidays.head()"
      ],
      "execution_count": 128,
      "outputs": [
        {
          "output_type": "execute_result",
          "data": {
            "text/html": [
              "<div>\n",
              "<style scoped>\n",
              "    .dataframe tbody tr th:only-of-type {\n",
              "        vertical-align: middle;\n",
              "    }\n",
              "\n",
              "    .dataframe tbody tr th {\n",
              "        vertical-align: top;\n",
              "    }\n",
              "\n",
              "    .dataframe thead th {\n",
              "        text-align: right;\n",
              "    }\n",
              "</style>\n",
              "<table border=\"1\" class=\"dataframe\">\n",
              "  <thead>\n",
              "    <tr style=\"text-align: right;\">\n",
              "      <th></th>\n",
              "      <th>ds</th>\n",
              "      <th>holiday</th>\n",
              "      <th>lower_window</th>\n",
              "      <th>upper_window</th>\n",
              "    </tr>\n",
              "  </thead>\n",
              "  <tbody>\n",
              "    <tr>\n",
              "      <th>0</th>\n",
              "      <td>2017/01/01 0:00:00</td>\n",
              "      <td>holiday</td>\n",
              "      <td>0</td>\n",
              "      <td>1</td>\n",
              "    </tr>\n",
              "    <tr>\n",
              "      <th>1</th>\n",
              "      <td>2017/01/01 1:00:00</td>\n",
              "      <td>holiday</td>\n",
              "      <td>0</td>\n",
              "      <td>1</td>\n",
              "    </tr>\n",
              "    <tr>\n",
              "      <th>2</th>\n",
              "      <td>2017/01/01 10:00:00</td>\n",
              "      <td>holiday</td>\n",
              "      <td>0</td>\n",
              "      <td>1</td>\n",
              "    </tr>\n",
              "    <tr>\n",
              "      <th>3</th>\n",
              "      <td>2017/01/01 11:00:00</td>\n",
              "      <td>holiday</td>\n",
              "      <td>0</td>\n",
              "      <td>1</td>\n",
              "    </tr>\n",
              "    <tr>\n",
              "      <th>4</th>\n",
              "      <td>2017/01/01 12:00:00</td>\n",
              "      <td>holiday</td>\n",
              "      <td>0</td>\n",
              "      <td>1</td>\n",
              "    </tr>\n",
              "  </tbody>\n",
              "</table>\n",
              "</div>"
            ],
            "text/plain": [
              "                    ds  holiday  lower_window  upper_window\n",
              "0   2017/01/01 0:00:00  holiday             0             1\n",
              "1   2017/01/01 1:00:00  holiday             0             1\n",
              "2  2017/01/01 10:00:00  holiday             0             1\n",
              "3  2017/01/01 11:00:00  holiday             0             1\n",
              "4  2017/01/01 12:00:00  holiday             0             1"
            ]
          },
          "metadata": {
            "tags": []
          },
          "execution_count": 128
        }
      ]
    },
    {
      "cell_type": "code",
      "metadata": {
        "colab": {
          "base_uri": "https://localhost:8080/"
        },
        "id": "PNjJb1wXtmq_",
        "outputId": "9adbbb23-fcbf-4d13-fbbf-46a2d77103af"
      },
      "source": [
        "df.y.max()"
      ],
      "execution_count": 129,
      "outputs": [
        {
          "output_type": "execute_result",
          "data": {
            "text/plain": [
              "5653"
            ]
          },
          "metadata": {
            "tags": []
          },
          "execution_count": 129
        }
      ]
    },
    {
      "cell_type": "code",
      "metadata": {
        "colab": {
          "base_uri": "https://localhost:8080/",
          "height": 204
        },
        "id": "z7mGr2I0ugfp",
        "outputId": "cf72bb6d-5362-47d2-b43e-9b7aace09a01"
      },
      "source": [
        "# 上限値をcapに設定\n",
        "df['cap'] = 5700\n",
        "df.head()"
      ],
      "execution_count": 130,
      "outputs": [
        {
          "output_type": "execute_result",
          "data": {
            "text/html": [
              "<div>\n",
              "<style scoped>\n",
              "    .dataframe tbody tr th:only-of-type {\n",
              "        vertical-align: middle;\n",
              "    }\n",
              "\n",
              "    .dataframe tbody tr th {\n",
              "        vertical-align: top;\n",
              "    }\n",
              "\n",
              "    .dataframe thead th {\n",
              "        text-align: right;\n",
              "    }\n",
              "</style>\n",
              "<table border=\"1\" class=\"dataframe\">\n",
              "  <thead>\n",
              "    <tr style=\"text-align: right;\">\n",
              "      <th></th>\n",
              "      <th>DATE</th>\n",
              "      <th>TIME</th>\n",
              "      <th>y</th>\n",
              "      <th>ds</th>\n",
              "      <th>cap</th>\n",
              "    </tr>\n",
              "  </thead>\n",
              "  <tbody>\n",
              "    <tr>\n",
              "      <th>0</th>\n",
              "      <td>2017/1/1</td>\n",
              "      <td>0:00</td>\n",
              "      <td>2783</td>\n",
              "      <td>2017-01-01 00:00:00</td>\n",
              "      <td>5700</td>\n",
              "    </tr>\n",
              "    <tr>\n",
              "      <th>1</th>\n",
              "      <td>2017/1/1</td>\n",
              "      <td>1:00</td>\n",
              "      <td>2634</td>\n",
              "      <td>2017-01-01 01:00:00</td>\n",
              "      <td>5700</td>\n",
              "    </tr>\n",
              "    <tr>\n",
              "      <th>2</th>\n",
              "      <td>2017/1/1</td>\n",
              "      <td>2:00</td>\n",
              "      <td>2520</td>\n",
              "      <td>2017-01-01 02:00:00</td>\n",
              "      <td>5700</td>\n",
              "    </tr>\n",
              "    <tr>\n",
              "      <th>3</th>\n",
              "      <td>2017/1/1</td>\n",
              "      <td>3:00</td>\n",
              "      <td>2438</td>\n",
              "      <td>2017-01-01 03:00:00</td>\n",
              "      <td>5700</td>\n",
              "    </tr>\n",
              "    <tr>\n",
              "      <th>4</th>\n",
              "      <td>2017/1/1</td>\n",
              "      <td>4:00</td>\n",
              "      <td>2389</td>\n",
              "      <td>2017-01-01 04:00:00</td>\n",
              "      <td>5700</td>\n",
              "    </tr>\n",
              "  </tbody>\n",
              "</table>\n",
              "</div>"
            ],
            "text/plain": [
              "       DATE  TIME     y                  ds   cap\n",
              "0  2017/1/1  0:00  2783 2017-01-01 00:00:00  5700\n",
              "1  2017/1/1  1:00  2634 2017-01-01 01:00:00  5700\n",
              "2  2017/1/1  2:00  2520 2017-01-01 02:00:00  5700\n",
              "3  2017/1/1  3:00  2438 2017-01-01 03:00:00  5700\n",
              "4  2017/1/1  4:00  2389 2017-01-01 04:00:00  5700"
            ]
          },
          "metadata": {
            "tags": []
          },
          "execution_count": 130
        }
      ]
    },
    {
      "cell_type": "code",
      "metadata": {
        "id": "HzIbFNvXvW1d"
      },
      "source": [
        "model = Prophet(\n",
        "    growth = 'logistic',\n",
        "    yearly_seasonality = True,\n",
        "    weekly_seasonality = True,\n",
        "    daily_seasonality = True,\n",
        "    holidays = df_holidays\n",
        ")"
      ],
      "execution_count": 134,
      "outputs": []
    },
    {
      "cell_type": "code",
      "metadata": {
        "colab": {
          "base_uri": "https://localhost:8080/",
          "height": 204
        },
        "id": "htCLpIPeyiwb",
        "outputId": "2ac60039-eb86-4013-8de9-3237176c8d2e"
      },
      "source": [
        "df.head()"
      ],
      "execution_count": 135,
      "outputs": [
        {
          "output_type": "execute_result",
          "data": {
            "text/html": [
              "<div>\n",
              "<style scoped>\n",
              "    .dataframe tbody tr th:only-of-type {\n",
              "        vertical-align: middle;\n",
              "    }\n",
              "\n",
              "    .dataframe tbody tr th {\n",
              "        vertical-align: top;\n",
              "    }\n",
              "\n",
              "    .dataframe thead th {\n",
              "        text-align: right;\n",
              "    }\n",
              "</style>\n",
              "<table border=\"1\" class=\"dataframe\">\n",
              "  <thead>\n",
              "    <tr style=\"text-align: right;\">\n",
              "      <th></th>\n",
              "      <th>DATE</th>\n",
              "      <th>TIME</th>\n",
              "      <th>y</th>\n",
              "      <th>ds</th>\n",
              "      <th>cap</th>\n",
              "    </tr>\n",
              "  </thead>\n",
              "  <tbody>\n",
              "    <tr>\n",
              "      <th>0</th>\n",
              "      <td>2017/1/1</td>\n",
              "      <td>0:00</td>\n",
              "      <td>2783</td>\n",
              "      <td>2017-01-01 00:00:00</td>\n",
              "      <td>5700</td>\n",
              "    </tr>\n",
              "    <tr>\n",
              "      <th>1</th>\n",
              "      <td>2017/1/1</td>\n",
              "      <td>1:00</td>\n",
              "      <td>2634</td>\n",
              "      <td>2017-01-01 01:00:00</td>\n",
              "      <td>5700</td>\n",
              "    </tr>\n",
              "    <tr>\n",
              "      <th>2</th>\n",
              "      <td>2017/1/1</td>\n",
              "      <td>2:00</td>\n",
              "      <td>2520</td>\n",
              "      <td>2017-01-01 02:00:00</td>\n",
              "      <td>5700</td>\n",
              "    </tr>\n",
              "    <tr>\n",
              "      <th>3</th>\n",
              "      <td>2017/1/1</td>\n",
              "      <td>3:00</td>\n",
              "      <td>2438</td>\n",
              "      <td>2017-01-01 03:00:00</td>\n",
              "      <td>5700</td>\n",
              "    </tr>\n",
              "    <tr>\n",
              "      <th>4</th>\n",
              "      <td>2017/1/1</td>\n",
              "      <td>4:00</td>\n",
              "      <td>2389</td>\n",
              "      <td>2017-01-01 04:00:00</td>\n",
              "      <td>5700</td>\n",
              "    </tr>\n",
              "  </tbody>\n",
              "</table>\n",
              "</div>"
            ],
            "text/plain": [
              "       DATE  TIME     y                  ds   cap\n",
              "0  2017/1/1  0:00  2783 2017-01-01 00:00:00  5700\n",
              "1  2017/1/1  1:00  2634 2017-01-01 01:00:00  5700\n",
              "2  2017/1/1  2:00  2520 2017-01-01 02:00:00  5700\n",
              "3  2017/1/1  3:00  2438 2017-01-01 03:00:00  5700\n",
              "4  2017/1/1  4:00  2389 2017-01-01 04:00:00  5700"
            ]
          },
          "metadata": {
            "tags": []
          },
          "execution_count": 135
        }
      ]
    },
    {
      "cell_type": "code",
      "metadata": {
        "colab": {
          "base_uri": "https://localhost:8080/"
        },
        "id": "xNbM6IDnwa3O",
        "outputId": "20f6e612-c829-430c-fba8-bb2f2a45f592"
      },
      "source": [
        "model.fit(df)"
      ],
      "execution_count": 136,
      "outputs": [
        {
          "output_type": "execute_result",
          "data": {
            "text/plain": [
              "<fbprophet.forecaster.Prophet at 0x7f8769e72d10>"
            ]
          },
          "metadata": {
            "tags": []
          },
          "execution_count": 136
        }
      ]
    },
    {
      "cell_type": "code",
      "metadata": {
        "colab": {
          "base_uri": "https://localhost:8080/",
          "height": 204
        },
        "id": "RDGNXxJMw_sI",
        "outputId": "76363130-e934-4c89-9c7e-2a42a154b589"
      },
      "source": [
        "future['cap'] = 5700\n",
        "future.head()"
      ],
      "execution_count": 138,
      "outputs": [
        {
          "output_type": "execute_result",
          "data": {
            "text/html": [
              "<div>\n",
              "<style scoped>\n",
              "    .dataframe tbody tr th:only-of-type {\n",
              "        vertical-align: middle;\n",
              "    }\n",
              "\n",
              "    .dataframe tbody tr th {\n",
              "        vertical-align: top;\n",
              "    }\n",
              "\n",
              "    .dataframe thead th {\n",
              "        text-align: right;\n",
              "    }\n",
              "</style>\n",
              "<table border=\"1\" class=\"dataframe\">\n",
              "  <thead>\n",
              "    <tr style=\"text-align: right;\">\n",
              "      <th></th>\n",
              "      <th>ds</th>\n",
              "      <th>cap</th>\n",
              "    </tr>\n",
              "  </thead>\n",
              "  <tbody>\n",
              "    <tr>\n",
              "      <th>0</th>\n",
              "      <td>2017-01-01 00:00:00</td>\n",
              "      <td>5700</td>\n",
              "    </tr>\n",
              "    <tr>\n",
              "      <th>1</th>\n",
              "      <td>2017-01-01 01:00:00</td>\n",
              "      <td>5700</td>\n",
              "    </tr>\n",
              "    <tr>\n",
              "      <th>2</th>\n",
              "      <td>2017-01-01 02:00:00</td>\n",
              "      <td>5700</td>\n",
              "    </tr>\n",
              "    <tr>\n",
              "      <th>3</th>\n",
              "      <td>2017-01-01 03:00:00</td>\n",
              "      <td>5700</td>\n",
              "    </tr>\n",
              "    <tr>\n",
              "      <th>4</th>\n",
              "      <td>2017-01-01 04:00:00</td>\n",
              "      <td>5700</td>\n",
              "    </tr>\n",
              "  </tbody>\n",
              "</table>\n",
              "</div>"
            ],
            "text/plain": [
              "                   ds   cap\n",
              "0 2017-01-01 00:00:00  5700\n",
              "1 2017-01-01 01:00:00  5700\n",
              "2 2017-01-01 02:00:00  5700\n",
              "3 2017-01-01 03:00:00  5700\n",
              "4 2017-01-01 04:00:00  5700"
            ]
          },
          "metadata": {
            "tags": []
          },
          "execution_count": 138
        }
      ]
    },
    {
      "cell_type": "code",
      "metadata": {
        "id": "cvMmHoq0xP_w"
      },
      "source": [
        "forecast = model.predict(future)"
      ],
      "execution_count": 139,
      "outputs": []
    },
    {
      "cell_type": "code",
      "metadata": {
        "colab": {
          "base_uri": "https://localhost:8080/",
          "height": 376
        },
        "id": "AYvcBSXXxRYn",
        "outputId": "34346778-a1b3-4d70-9d3e-5549aa93d192"
      },
      "source": [
        "model.plot(forecast)\n",
        "\n",
        "plt.xlim(dt(2018,1,1), dt(2018,1,10))\n",
        "plt.show()"
      ],
      "execution_count": 140,
      "outputs": [
        {
          "output_type": "display_data",
          "data": {
            "image/png": "[encoded data removed]",
            "text/plain": [
              "<Figure size 720x432 with 1 Axes>"
            ]
          },
          "metadata": {
            "tags": []
          }
        }
      ]
    },
    {
      "cell_type": "code",
      "metadata": {
        "id": "i87j-GeOxqxF"
      },
      "source": [
        "forecast_2020 = forecast[forecast['ds'] >= dt(2020,1,1)].reset_index(drop = True)"
      ],
      "execution_count": 141,
      "outputs": []
    },
    {
      "cell_type": "code",
      "metadata": {
        "colab": {
          "base_uri": "https://localhost:8080/",
          "height": 204
        },
        "id": "RuClcw_Tx8nO",
        "outputId": "e7a6f50a-10e8-4dad-cc5c-fad55310bd7c"
      },
      "source": [
        "# 実測値\n",
        "results['t'] =  df_2020['y']\n",
        "# 予測値\n",
        "results['y'] =  forecast_2020['yhat']\n",
        "results['diff'] = results['t'] - results['y']\n",
        "\n",
        "results.head()"
      ],
      "execution_count": 144,
      "outputs": [
        {
          "output_type": "execute_result",
          "data": {
            "text/html": [
              "<div>\n",
              "<style scoped>\n",
              "    .dataframe tbody tr th:only-of-type {\n",
              "        vertical-align: middle;\n",
              "    }\n",
              "\n",
              "    .dataframe tbody tr th {\n",
              "        vertical-align: top;\n",
              "    }\n",
              "\n",
              "    .dataframe thead th {\n",
              "        text-align: right;\n",
              "    }\n",
              "</style>\n",
              "<table border=\"1\" class=\"dataframe\">\n",
              "  <thead>\n",
              "    <tr style=\"text-align: right;\">\n",
              "      <th></th>\n",
              "      <th>t</th>\n",
              "      <th>y</th>\n",
              "      <th>diff</th>\n",
              "    </tr>\n",
              "  </thead>\n",
              "  <tbody>\n",
              "    <tr>\n",
              "      <th>0</th>\n",
              "      <td>2857</td>\n",
              "      <td>2995.530920</td>\n",
              "      <td>-138.530920</td>\n",
              "    </tr>\n",
              "    <tr>\n",
              "      <th>1</th>\n",
              "      <td>2703</td>\n",
              "      <td>2865.511587</td>\n",
              "      <td>-162.511587</td>\n",
              "    </tr>\n",
              "    <tr>\n",
              "      <th>2</th>\n",
              "      <td>2602</td>\n",
              "      <td>2787.601346</td>\n",
              "      <td>-185.601346</td>\n",
              "    </tr>\n",
              "    <tr>\n",
              "      <th>3</th>\n",
              "      <td>2520</td>\n",
              "      <td>2753.448512</td>\n",
              "      <td>-233.448512</td>\n",
              "    </tr>\n",
              "    <tr>\n",
              "      <th>4</th>\n",
              "      <td>2464</td>\n",
              "      <td>2772.966300</td>\n",
              "      <td>-308.966300</td>\n",
              "    </tr>\n",
              "  </tbody>\n",
              "</table>\n",
              "</div>"
            ],
            "text/plain": [
              "      t            y        diff\n",
              "0  2857  2995.530920 -138.530920\n",
              "1  2703  2865.511587 -162.511587\n",
              "2  2602  2787.601346 -185.601346\n",
              "3  2520  2753.448512 -233.448512\n",
              "4  2464  2772.966300 -308.966300"
            ]
          },
          "metadata": {
            "tags": []
          },
          "execution_count": 144
        }
      ]
    },
    {
      "cell_type": "code",
      "metadata": {
        "colab": {
          "base_uri": "https://localhost:8080/"
        },
        "id": "ZR8xUKCSx_9i",
        "outputId": "e5ef4337-d08a-4589-b202-2df7050ee4c5"
      },
      "source": [
        "np.mean(abs((results['y'] - results['t'])/results['y'])*100)"
      ],
      "execution_count": 145,
      "outputs": [
        {
          "output_type": "execute_result",
          "data": {
            "text/plain": [
              "8.539586077524302"
            ]
          },
          "metadata": {
            "tags": []
          },
          "execution_count": 145
        }
      ]
    },
    {
      "cell_type": "code",
      "metadata": {
        "id": "_Kl-1fS6yGj-"
      },
      "source": [
        ""
      ],
      "execution_count": 145,
      "outputs": []
    },
    {
      "cell_type": "code",
      "metadata": {
        "id": "K4dL_yDs0d9F"
      },
      "source": [
        ""
      ],
      "execution_count": null,
      "outputs": []
    },
    {
      "cell_type": "markdown",
      "metadata": {
        "id": "I_S5aubO0qYb"
      },
      "source": [
        "# 周期性の確認"
      ]
    },
    {
      "cell_type": "code",
      "metadata": {
        "colab": {
          "base_uri": "https://localhost:8080/",
          "height": 1000
        },
        "id": "UT-B00Kk0tNG",
        "outputId": "d8550f5c-79e1-4dfb-9dbb-c56e346b4b91"
      },
      "source": [
        "model.plot_components(forecast)\n",
        "plt.show()"
      ],
      "execution_count": 146,
      "outputs": [
        {
          "output_type": "display_data",
          "data": {
            "image/png": "[encoded data removed]",
            "text/plain": [
              "<Figure size 648x1080 with 5 Axes>"
            ]
          },
          "metadata": {
            "tags": []
          }
        }
      ]
    },
    {
      "cell_type": "code",
      "metadata": {
        "id": "JfUmcEA601g4"
      },
      "source": [
        ""
      ],
      "execution_count": null,
      "outputs": []
    }
  ]
}